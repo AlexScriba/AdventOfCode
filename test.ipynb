{
 "cells": [
  {
   "cell_type": "code",
   "execution_count": 8,
   "metadata": {},
   "outputs": [
    {
     "name": "stdout",
     "output_type": "stream",
     "text": [
      "[('N', 'N'), ('N', 'C'), ('C', 'B')]\n",
      "NNCB\n",
      "Counter({'NN': 1, 'NC': 1, 'CB': 1})\n"
     ]
    }
   ],
   "source": [
    "from collections import Counter\n",
    "\n",
    "polymer = 'NNCB'\n",
    "\n",
    "test = zip(polymer, polymer[1:])\n",
    "\n",
    "print(list(test))\n",
    "\n",
    "tmp_poly = Counter(a+b for a,b in zip(polymer, polymer[1:]))\n",
    "print(polymer)\n",
    "print(tmp_poly)\n"
   ]
  },
  {
   "cell_type": "markdown",
   "metadata": {},
   "source": []
  },
  {
   "cell_type": "code",
   "execution_count": null,
   "metadata": {},
   "outputs": [],
   "source": [
    "(a,b), value = tmp_poly.items\n",
    "print(a)\n",
    "print(b)\n",
    "print(value)"
   ]
  }
 ],
 "metadata": {
  "interpreter": {
   "hash": "157fcc53e5efde9c1a334da88b7f1a13255ff3fb904a7449da7386f3b6e2804f"
  },
  "kernelspec": {
   "display_name": "Python 3.9.6 64-bit ('base': conda)",
   "language": "python",
   "name": "python3"
  },
  "language_info": {
   "codemirror_mode": {
    "name": "ipython",
    "version": 3
   },
   "file_extension": ".py",
   "mimetype": "text/x-python",
   "name": "python",
   "nbconvert_exporter": "python",
   "pygments_lexer": "ipython3",
   "version": "3.8.10"
  },
  "orig_nbformat": 4
 },
 "nbformat": 4,
 "nbformat_minor": 2
}
